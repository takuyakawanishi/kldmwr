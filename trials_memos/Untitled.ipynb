{
 "cells": [
  {
   "cell_type": "markdown",
   "id": "997b4e5c",
   "metadata": {},
   "source": [
    "#### \n",
    "\n",
    "find_minimizer(x, p, calc_gl, cdf, variant='zbc')\n",
    "\n",
    "calc_gl\n",
    "\n",
    "```Python\n",
    "calc_both   calc_ge, zbc\n",
    "calc_left\n",
    "calc_right\n",
    "calc_none calc_ge, nbc\n",
    "```"
   ]
  },
  {
   "cell_type": "markdown",
   "id": "9702e2e5",
   "metadata": {},
   "source": [
    "```Python\n",
    "wgt = weights_xxx(cnt)\n",
    "\n",
    "weights_zbc_left(cnt) new\n",
    "weights_zbc_right(cnt)\n",
    "```"
   ]
  }
 ],
 "metadata": {
  "hide_input": false,
  "kernelspec": {
   "display_name": "Python 3 (ipykernel)",
   "language": "python",
   "name": "python3"
  },
  "language_info": {
   "codemirror_mode": {
    "name": "ipython",
    "version": 3
   },
   "file_extension": ".py",
   "mimetype": "text/x-python",
   "name": "python",
   "nbconvert_exporter": "python",
   "pygments_lexer": "ipython3",
   "version": "3.9.13"
  }
 },
 "nbformat": 4,
 "nbformat_minor": 5
}
